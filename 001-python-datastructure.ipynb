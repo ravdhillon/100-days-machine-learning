{
 "cells": [
  {
   "cell_type": "markdown",
   "id": "raising-instrument",
   "metadata": {},
   "source": [
    "## 1. String\n",
    "- sequence datatype\n",
    "- immutable. Meaning a new String object is created everytime we make changes\n",
    "\n",
    "### Methods\n",
    "- casefold: creates lowercase string suitable for case insensitive operations. More **aggressive** than **lower**\n",
    "- lower: takes every character and convert it to lowercase.\n",
    "- upper: takes every character and convert it to uppercase.\n",
    "- capitalize: returns a capitalized version of the string, i.e. it makes the first character upper case and the rest lower in **whole string**.\n",
    "- title: returns the title cased version of the string, that is, every letter in the beginning of a **word** is made upper case and all others are made lower case:\n",
    "- swapcase: returns a **new string object** in which all lower case characters are swapped to upper case and vice-versa.\n",
    "- translate:  specify the translation table (used for replacement).\n",
    "- strip: strip leading and trailing characters. we can also use **lstrip** or **rstrip**\n",
    "- split: split string based on delimiter into **list of strings**\n",
    "    - Takes two arguments: if sep is not provided or is None, then splitting takes place whenever there is whitespace.Leading and trailing ws is ignored. If sep is provided we split on every occurence of delimiter, however maxsplit parameter limits the number of splitting that occurs.\n",
    "- replace: replaces one sub-string with another sub-string.\n",
    "- count: counting number of times a substring appears in a string."
   ]
  },
  {
   "cell_type": "code",
   "execution_count": 2,
   "id": "brief-mystery",
   "metadata": {},
   "outputs": [
    {
     "data": {
      "text/plain": [
       "'Ravisher Dhillon'"
      ]
     },
     "execution_count": 2,
     "metadata": {},
     "output_type": "execute_result"
    }
   ],
   "source": [
    "name = 'Ravisher Dhillon'"
   ]
  },
  {
   "cell_type": "markdown",
   "id": "catholic-durham",
   "metadata": {},
   "source": [
    "## 2. Set\n",
    "- unordered collection of unique objects. **No duplicates allowed. Duplicates will be deleted even if we have added in the set.**\n",
    "Two Types\n",
    "1. Sets:**Mutable**. New elements can be added **using add method** once sets are defined.\n",
    "2. Frozen Sets: **Immutable**. New elements cannot added after its defined. it doesn't support **add method**"
   ]
  },
  {
   "cell_type": "code",
   "execution_count": 4,
   "id": "numerous-jenny",
   "metadata": {},
   "outputs": [
    {
     "data": {
      "text/plain": [
       "{'apple', 'orange', 'pear'}"
      ]
     },
     "execution_count": 4,
     "metadata": {},
     "output_type": "execute_result"
    }
   ],
   "source": [
    "basket_set = {'apple', 'orange', 'apple', 'pear', 'orange'}\n",
    "basket_set"
   ]
  },
  {
   "cell_type": "code",
   "execution_count": 5,
   "id": "honey-immunology",
   "metadata": {},
   "outputs": [
    {
     "data": {
      "text/plain": [
       "{'apple', 'banana', 'orange', 'pear'}"
      ]
     },
     "execution_count": 5,
     "metadata": {},
     "output_type": "execute_result"
    }
   ],
   "source": [
    "# Adding element to set\n",
    "basket_set.add('banana')\n",
    "basket_set"
   ]
  },
  {
   "cell_type": "code",
   "execution_count": 9,
   "id": "acceptable-salad",
   "metadata": {},
   "outputs": [
    {
     "data": {
      "text/plain": [
       "frozenset({'Canada', 'Mexico', 'USA'})"
      ]
     },
     "execution_count": 9,
     "metadata": {},
     "output_type": "execute_result"
    }
   ],
   "source": [
    "# Frozen Set\n",
    "frozen_set = frozenset({'USA', 'Canada', 'Mexico'})\n",
    "frozen_set"
   ]
  },
  {
   "cell_type": "code",
   "execution_count": 11,
   "id": "comfortable-candidate",
   "metadata": {},
   "outputs": [
    {
     "ename": "AttributeError",
     "evalue": "'frozenset' object has no attribute 'add'",
     "output_type": "error",
     "traceback": [
      "\u001b[0;31m---------------------------------------------------------------------------\u001b[0m",
      "\u001b[0;31mAttributeError\u001b[0m                            Traceback (most recent call last)",
      "\u001b[0;32m<ipython-input-11-048371ebfcca>\u001b[0m in \u001b[0;36m<module>\u001b[0;34m\u001b[0m\n\u001b[0;32m----> 1\u001b[0;31m \u001b[0mfrozen_set\u001b[0m\u001b[0;34m.\u001b[0m\u001b[0madd\u001b[0m\u001b[0;34m(\u001b[0m\u001b[0;34m'India'\u001b[0m\u001b[0;34m)\u001b[0m\u001b[0;34m\u001b[0m\u001b[0;34m\u001b[0m\u001b[0m\n\u001b[0m",
      "\u001b[0;31mAttributeError\u001b[0m: 'frozenset' object has no attribute 'add'"
     ]
    }
   ],
   "source": [
    "frozen_set.add('India')"
   ]
  },
  {
   "cell_type": "markdown",
   "id": "excess-notebook",
   "metadata": {},
   "source": [
    "## 3. List\n",
    "Contains items separated by **,** and enclosed within **[ ]** bracket. The elements of list can be of **different datatype.**\n",
    "**Mutable Data Structure**"
   ]
  },
  {
   "cell_type": "code",
   "execution_count": 12,
   "id": "expected-essay",
   "metadata": {},
   "outputs": [
    {
     "data": {
      "text/plain": [
       "['USA', 'Canada', 'Mexico', 65297.52, 46193.73, 9946.03]"
      ]
     },
     "execution_count": 12,
     "metadata": {},
     "output_type": "execute_result"
    }
   ],
   "source": [
    "country_list = ['USA', 'Canada', 'Mexico', 65297.52, 46193.73, 9946.03]\n",
    "country_list"
   ]
  },
  {
   "cell_type": "markdown",
   "id": "unknown-roommate",
   "metadata": {},
   "source": [
    "## 4. Dictionary\n",
    "key value pair. Enclosed by **{ }** braces and values can be assigned and accessed using **[ ] brackets**.\n",
    "\n",
    "### Methods\n",
    "- keys() : return list of keys\n",
    "- values(): return list of values"
   ]
  },
  {
   "cell_type": "code",
   "execution_count": 13,
   "id": "realistic-engineer",
   "metadata": {},
   "outputs": [
    {
     "data": {
      "text/plain": [
       "{'USA': 65297.52, 'Canada': 46193.73, 'Mexico': 9946.03}"
      ]
     },
     "execution_count": 13,
     "metadata": {},
     "output_type": "execute_result"
    }
   ],
   "source": [
    "country_dict = {'USA': 65297.52, 'Canada': 46193.73, 'Mexico': 9946.03}\n",
    "country_dict"
   ]
  },
  {
   "cell_type": "markdown",
   "id": "turkish-pattern",
   "metadata": {},
   "source": [
    "## 5. Tuple\n",
    "Tuple elements are enclosed in **( ) parenthesis** and they are **immutable**."
   ]
  },
  {
   "cell_type": "code",
   "execution_count": 14,
   "id": "qualified-enterprise",
   "metadata": {},
   "outputs": [
    {
     "data": {
      "text/plain": [
       "('USA', 'Canada', 'Mexico', 65297.52, 46193.73, 9946.03)"
      ]
     },
     "execution_count": 14,
     "metadata": {},
     "output_type": "execute_result"
    }
   ],
   "source": [
    "country_tuple = ('USA', 'Canada', 'Mexico', 65297.52, 46193.73, 9946.03)\n",
    "country_tuple"
   ]
  },
  {
   "cell_type": "markdown",
   "id": "scenic-carolina",
   "metadata": {},
   "source": [
    "## 6. Arrays and Multidimensional Arrays\n",
    "Unline any other language arrays in Python are similar to lists. Array is a data structure that stores values of same data type i.e. stores homogenous data. It differs from list in this regard only, because list can store heterogenous data types.\n",
    "**To use arrays in Python we have to import the array module**\n",
    "\n",
    "### This is how we initialize the array \n",
    "### arr_name = array(typecode, [Initializer]), where typecode (they are the codes) which defines the type of the array and initializers are values with which array is initialized.\n",
    "\n",
    "## Array Methods\n",
    "- Append: Appends any value to the **end** of the array.\n",
    "- Insert: Insert value at the **given index** of the array.\n",
    "- Extend: A Python array can be extended with more than one value using.\n",
    "- fromlist: Add items from list into array.\n",
    "- tolist: Convert array to python list object.\n",
    "- remove:  Removes **any element** from array.\n",
    "- pop:  Removes **last element** from array.\n",
    "- index: fetch any element using the index. we can also use **[ ] square bracket**\n",
    "- reverse:  Reverses the array.\n",
    "- count: Returns number of times an element appears in an array."
   ]
  },
  {
   "cell_type": "code",
   "execution_count": 5,
   "id": "caring-representative",
   "metadata": {},
   "outputs": [
    {
     "data": {
      "text/plain": [
       "array('i', [1, 2, 3, 4])"
      ]
     },
     "execution_count": 5,
     "metadata": {},
     "output_type": "execute_result"
    }
   ],
   "source": [
    "from array import *\n",
    "\n",
    "\n",
    "int_arr = array('i', [1,2,3,4])\n",
    "int_arr"
   ]
  },
  {
   "cell_type": "markdown",
   "id": "grave-drill",
   "metadata": {},
   "source": [
    "## 7. Multidimensional arrays\n",
    "lists in lists\n"
   ]
  },
  {
   "cell_type": "code",
   "execution_count": 6,
   "id": "bacterial-council",
   "metadata": {},
   "outputs": [
    {
     "data": {
      "text/plain": [
       "[[1, 2, 3], [4, 5, 6], [7, 8, 9]]"
      ]
     },
     "execution_count": 6,
     "metadata": {},
     "output_type": "execute_result"
    }
   ],
   "source": [
    "list = [[1,2,3], [4,5,6], [7, 8, 9]]\n",
    "list"
   ]
  },
  {
   "cell_type": "markdown",
   "id": "separated-folks",
   "metadata": {},
   "source": [
    "## 8. Linked List\n",
    "A linkedlist is collection of nodes, each made up of reference and a value. Nodes are connected into a sequence using their references. Linked List can be used to implement data structures like **Stack, Lists, Queue etc.**"
   ]
  },
  {
   "cell_type": "code",
   "execution_count": 9,
   "id": "horizontal-cover",
   "metadata": {},
   "outputs": [
    {
     "name": "stdout",
     "output_type": "stream",
     "text": [
      "O\n",
      "L\n",
      "L\n",
      "E\n",
      "H\n",
      "Found item L: True\n"
     ]
    }
   ],
   "source": [
    "class Node:\n",
    "    def __init__(self, val):\n",
    "        self.data = val\n",
    "        self.node = None\n",
    "    def getData(self):\n",
    "        return self.data\n",
    "    def getNext(self):\n",
    "        return self.next;\n",
    "    def setData(self, val):\n",
    "        self.data = val\n",
    "    def setNext(self, val):\n",
    "        self.next = val\n",
    "\n",
    "class LinkedList:\n",
    "    def __init__(self):\n",
    "        self.head = None    \n",
    "    def isEmpty(self):\n",
    "        return self.head is None\n",
    "    def add(self, item):\n",
    "        node = Node(item)\n",
    "        node.setNext(self.head)\n",
    "        self.head = node\n",
    "    def search(self, item):\n",
    "        current = self.head\n",
    "        found = False\n",
    "        while current.next is not None and not found:\n",
    "            if current.getData() is item:\n",
    "                found = True\n",
    "            else:\n",
    "                current = current.getNext()\n",
    "        return found\n",
    "    def print(self):\n",
    "        current = self.head\n",
    "        while current is not None:\n",
    "            print(current.getData())\n",
    "            current = current.getNext()\n",
    "\n",
    "ll = LinkedList()\n",
    "ll.add('H')\n",
    "ll.add('E')\n",
    "ll.add('L')\n",
    "ll.add('L')\n",
    "ll.add('O')\n",
    "\n",
    "ll.print()\n",
    "print(f'Found item L: {ll.search(\"L\")}')\n",
    "    "
   ]
  },
  {
   "cell_type": "markdown",
   "id": "quantitative-minister",
   "metadata": {},
   "source": [
    "## 9. Heaps\n",
    "To find largest or smallest items in collection, **heapq module** can be used.\n",
    "- To find largest: **use nlargest**\n",
    "- To find smallest: **use nsmallest**\n",
    "\n",
    "Both of these functions accept two required arguments:\n",
    "- 1st: number of items to retrieve\n",
    "- 2nd: collection\n",
    "\n",
    "There is an **optional** argument called **key parameter**\n",
    "\n",
    "### Heapq Operations\n",
    "- heapify(collection)"
   ]
  },
  {
   "cell_type": "code",
   "execution_count": 11,
   "id": "awful-rapid",
   "metadata": {},
   "outputs": [
    {
     "name": "stdout",
     "output_type": "stream",
     "text": [
      "Largest 4 numbers: [9, 7, 6, 5]\n",
      "Smallest 4 numbers: [0, 1, 1, 2]\n"
     ]
    }
   ],
   "source": [
    "import heapq\n",
    "numbers = [1,4,2,6,9,3,1,7,5,0]\n",
    "print(f'Largest 4 numbers: {heapq.nlargest(4,numbers)}')\n",
    "print(f'Smallest 4 numbers: {heapq.nsmallest(4,numbers)}')"
   ]
  },
  {
   "cell_type": "code",
   "execution_count": 13,
   "id": "intended-chassis",
   "metadata": {},
   "outputs": [
    {
     "name": "stdout",
     "output_type": "stream",
     "text": [
      "Oldest Person: [{'firstname': 'Jean', 'lastname': 'Claudia', 'age': 32}]\n"
     ]
    }
   ],
   "source": [
    "people = [\n",
    "    {'firstname': 'John', 'lastname': 'Doe', 'age': 30},\n",
    "    {'firstname': 'Tom', 'lastname': 'Whit', 'age': 26},\n",
    "    {'firstname': 'Jean', 'lastname': 'Claudia', 'age': 32}\n",
    "]\n",
    "\n",
    "print(f'Oldest Person: {heapq.nlargest(1, people, key=lambda s:s[\"age\"])}')"
   ]
  },
  {
   "cell_type": "code",
   "execution_count": 16,
   "id": "overhead-socket",
   "metadata": {},
   "outputs": [
    {
     "name": "stdout",
     "output_type": "stream",
     "text": [
      "Heapify Operation: Get smallest number\n"
     ]
    },
    {
     "data": {
      "text/plain": [
       "0"
      ]
     },
     "execution_count": 16,
     "metadata": {},
     "output_type": "execute_result"
    }
   ],
   "source": [
    "print('Heapify Operation: Get smallest number')\n",
    "heapq.heapify(numbers)\n",
    "heapq.heappop(numbers)"
   ]
  },
  {
   "cell_type": "markdown",
   "id": "musical-grace",
   "metadata": {},
   "source": [
    "## Data Structure Operations:\n",
    "This part now deals with Data Structure operations which we can carry out on some of these data structures."
   ]
  },
  {
   "cell_type": "markdown",
   "id": "streaming-freeze",
   "metadata": {},
   "source": [
    "## Comprehension\n",
    "Comprehension are constructs that allow sequences to be built from other sequences. Python 2.0 introduced **list comprehension** and Python 3 introduced **dictionary** and **set** cmprehension."
   ]
  },
  {
   "cell_type": "markdown",
   "id": "found-bloom",
   "metadata": {},
   "source": [
    "### List Comprehension: A list comprehension consists of the following parts:\n",
    "\n",
    "- An Input Sequence.\n",
    "- A Variable representing members of the input sequence.\n",
    "- An Optional Predicate expression.\n",
    "- An Output Expression producing elements of the output list from members of the Input Sequence that satisfy the predicate.\n"
   ]
  },
  {
   "cell_type": "code",
   "execution_count": 5,
   "id": "imperial-wings",
   "metadata": {},
   "outputs": [
    {
     "data": {
      "text/plain": [
       "[1, 0, 16, 9, 25]"
      ]
     },
     "execution_count": 5,
     "metadata": {},
     "output_type": "execute_result"
    }
   ],
   "source": [
    "a_list = [1, 0, 4, 3, 5]\n",
    "squared_list = [e*e for e in a_list]\n",
    "squared_list"
   ]
  },
  {
   "cell_type": "markdown",
   "id": "heard-belfast",
   "metadata": {},
   "source": [
    "### Set Comprehension: Same principle as list comprehension, the only difference is that resulting sequence is set.\n",
    "\n",
    "- An Input Sequence.\n",
    "- A Variable representing members of the input sequence.\n",
    "- An Optional Predicate expression.\n",
    "- An Output Expression producing elements of the output list from members of the Input Sequence that satisfy the predicate.\n"
   ]
  },
  {
   "cell_type": "markdown",
   "id": "floppy-radical",
   "metadata": {},
   "source": [
    "### Dictionary Comprehensions\n",
    "Say we have a dictionary the keys of which are characters and the values of which map to the number of times that character appears in some text. The dictionary currently distinguishes between upper and lower case characters."
   ]
  },
  {
   "cell_type": "code",
   "execution_count": null,
   "id": "indie-number",
   "metadata": {},
   "outputs": [],
   "source": []
  }
 ],
 "metadata": {
  "kernelspec": {
   "display_name": "Python 3",
   "language": "python",
   "name": "python3"
  },
  "language_info": {
   "codemirror_mode": {
    "name": "ipython",
    "version": 3
   },
   "file_extension": ".py",
   "mimetype": "text/x-python",
   "name": "python",
   "nbconvert_exporter": "python",
   "pygments_lexer": "ipython3",
   "version": "3.7.9"
  }
 },
 "nbformat": 4,
 "nbformat_minor": 5
}
