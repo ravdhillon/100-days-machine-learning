{
 "cells": [
  {
   "cell_type": "markdown",
   "id": "inside-tribune",
   "metadata": {},
   "source": [
    "## Functions\n",
    "We will discuss following topics in this notebook.\n",
    "Functions in Python provide organized, reusable and modular code to perform a set of specific actions. They simplify the coding process, prevent redundant login."
   ]
  },
  {
   "cell_type": "code",
   "execution_count": 2,
   "id": "little-likelihood",
   "metadata": {},
   "outputs": [
    {
     "name": "stdout",
     "output_type": "stream",
     "text": [
      "Simple function defined using def statement\n"
     ]
    }
   ],
   "source": [
    "# Defining and calling fuctions using 'def' statement. \n",
    "# simple_func is known as identifier of the function. \n",
    "# Function definition is an executable statement and its execution binds the function name \n",
    "# to the function object which can be called later on using the identifier\n",
    "def simple_func():\n",
    "    print('Simple function defined using def statement')\n",
    "simple_func()"
   ]
  },
  {
   "cell_type": "code",
   "execution_count": 44,
   "id": "young-apple",
   "metadata": {},
   "outputs": [
    {
     "name": "stdout",
     "output_type": "stream",
     "text": [
      "Hello Joy !!!\n"
     ]
    }
   ],
   "source": [
    "# Parameters are optional identifiers that get bound to the values supplied as arguments when\n",
    "# function is called. \n",
    "def func_with_parameters(name):\n",
    "    if name is not None:\n",
    "        print(f'Hello {name} !!!')\n",
    "\n",
    "func_with_parameters('Joy')"
   ]
  },
  {
   "cell_type": "code",
   "execution_count": 45,
   "id": "fancy-desperate",
   "metadata": {},
   "outputs": [
    {
     "ename": "TypeError",
     "evalue": "func_with_parameters() missing 1 required positional argument: 'name'",
     "output_type": "error",
     "traceback": [
      "\u001b[0;31m---------------------------------------------------------------------------\u001b[0m",
      "\u001b[0;31mTypeError\u001b[0m                                 Traceback (most recent call last)",
      "\u001b[0;32m<ipython-input-45-7553f5b4f4ef>\u001b[0m in \u001b[0;36m<module>\u001b[0;34m\u001b[0m\n\u001b[1;32m      1\u001b[0m \u001b[0;31m# If parameter value is missing, we will get an error.\u001b[0m\u001b[0;34m\u001b[0m\u001b[0;34m\u001b[0m\u001b[0;34m\u001b[0m\u001b[0m\n\u001b[0;32m----> 2\u001b[0;31m \u001b[0mfunc_with_parameters\u001b[0m\u001b[0;34m(\u001b[0m\u001b[0;34m)\u001b[0m\u001b[0;34m\u001b[0m\u001b[0;34m\u001b[0m\u001b[0m\n\u001b[0m",
      "\u001b[0;31mTypeError\u001b[0m: func_with_parameters() missing 1 required positional argument: 'name'"
     ]
    }
   ],
   "source": [
    "# If parameter value is missing, we will get an error.\n",
    "func_with_parameters()"
   ]
  },
  {
   "cell_type": "code",
   "execution_count": 46,
   "id": "rental-locator",
   "metadata": {},
   "outputs": [
    {
     "name": "stdout",
     "output_type": "stream",
     "text": [
      "Hello Tommy !!!\n"
     ]
    }
   ],
   "source": [
    "# To avoid getting exception, we can also provide a default value to the parameters.\n",
    "def default_parameter(name='Tommy'):\n",
    "    print(f'Hello {name} !!!')\n",
    "default_parameter()"
   ]
  },
  {
   "cell_type": "code",
   "execution_count": 10,
   "id": "stone-positive",
   "metadata": {},
   "outputs": [],
   "source": [
    "# Unlike other languages, python functions can return values of any type. we don't need to\n",
    "# declare return type of the function.\n",
    "# One function can even return any number of different types."
   ]
  },
  {
   "cell_type": "code",
   "execution_count": 12,
   "id": "portuguese-vintage",
   "metadata": {},
   "outputs": [
    {
     "name": "stdout",
     "output_type": "stream",
     "text": [
      "Return String:  Zero\n",
      "Return Integer:  0\n"
     ]
    }
   ],
   "source": [
    "def many_types(x):\n",
    "    if x < 0:\n",
    "        return 'Zero'\n",
    "    else:\n",
    "        return 0\n",
    "print('Return String: ', many_types(-1))\n",
    "print('Return Integer: ', many_types(1))"
   ]
  },
  {
   "cell_type": "markdown",
   "id": "amino-walker",
   "metadata": {},
   "source": [
    "## Defining function with arbitrary number of arguments:\n",
    "There are two ways we can define arbitrary number of arguments:\n",
    "Any function can be defined with none or one *args and none or one **kwargs but not with more than one of each. Also *args must be the last positional argument and **kwargs must be the last parameter. Attempting to use more than one of either will result in a Syntax Error exception.\n",
    "### 1. Positional Arguments\n",
    "We can prefix one of arguments with a '*'. E.g. **def func(*args)**\n",
    "**args will be a tuple** containing all values that are passed in. We can't provide a default for args.\n",
    "### 2. Keyword Arguments\n",
    "We can prefix any number of arguments with a name by defining an argument in the defintion using '**'. E.g. def func(**kwargs)**\n",
    "**kwargs will be a dictionary containing the names as keys and values as values**\n",
    "\n",
    "We can mix these with other optional and required arguments but the order inside the definition matters.\n",
    "- The positional/keyword arguments come first. (Required arguments).\n",
    "- Then comes the arbitrary *arg arguments. (Optional).\n",
    "- Then keyword-only arguments come next. (Required).\n",
    "- Finally the arbitrary keyword **kwargs come. (Optional).\n",
    "\n",
    "**|-positional-|-optional-|---keyword-only--|-optional-|**\n",
    "<br/>\n",
    "def func(arg1, arg2=10 , *args, kwarg1, kwarg2=2, **kwargs): <br/>\n",
    "pass\n",
    "\n",
    "- arg1 must be given, otherwise a TypeError is raised. It can be given as positional (func(10)) or keyword argument (func(arg1=10)).\n",
    "- kwarg1 must also be given, but it can only be provided as keyword-argument: func(kwarg1=10).\n",
    "- arg2 and kwarg2 are optional. If the value is to be changed the same rules as for arg1 (either positional or keyword) and kwarg1 (only keyword) apply.\n",
    "- *args catches additional positional parameters. But note, that arg1 and arg2 must be provided as positional arguments to pass arguments to *args: func(1, 1, 1, 1).\n",
    "- **kwargs catches all additional keyword parameters. In this case any parameter that is not arg1, arg2, kwarg1 or kwarg2. For example: func(kwarg3=10).\n",
    "- In Python 3, you can use * alone to indicate that all subsequent arguments must be specified as keywords. For instance the math.isclose function in Python 3.5 and higher is defined using def math.isclose (a, b,\n",
    "- *, rel_tol=1e-09, abs_tol=0.0), which means the first two arguments can be supplied positionally but the optional third and fourth parameters can only be supplied as keyword arguments."
   ]
  },
  {
   "cell_type": "code",
   "execution_count": 20,
   "id": "surprised-carter",
   "metadata": {},
   "outputs": [
    {
     "name": "stdout",
     "output_type": "stream",
     "text": [
      "1\n",
      "2\n",
      "3\n",
      "4\n"
     ]
    }
   ],
   "source": [
    "# Positional Argument example\n",
    "def func(*args):\n",
    "    for i in args:\n",
    "        print(i)\n",
    "func(*[1,2,3,4])"
   ]
  },
  {
   "cell_type": "code",
   "execution_count": 21,
   "id": "relevant-flooring",
   "metadata": {},
   "outputs": [
    {
     "name": "stdout",
     "output_type": "stream",
     "text": [
      "John 1\n",
      "Ron 2\n",
      "Jessie 3\n"
     ]
    }
   ],
   "source": [
    "# Keyword Argument Example\n",
    "def func(**kwargs):\n",
    "    for name, value in kwargs.items():\n",
    "        print(name, value)\n",
    "persons = {'John': 1, 'Ron': 2, 'Jessie': 3}\n",
    "func(**persons)"
   ]
  },
  {
   "cell_type": "markdown",
   "id": "copyrighted-bishop",
   "metadata": {},
   "source": [
    "### Lambda (inline / Anonymous) Functions\n",
    "The **lambda** keyword creates an inline function that contains a single expression. The value of this expression is what the function returns when invoked.\n",
    "Like normal functions Lambdas also take arguments, including positional and keyword arguments.\n",
    "- lambda x, *args, **kwargs: print(x, args, kwargs)"
   ]
  },
  {
   "cell_type": "code",
   "execution_count": 53,
   "id": "stable-device",
   "metadata": {},
   "outputs": [
    {
     "name": "stdout",
     "output_type": "stream",
     "text": [
      "Calling the function: (Without Lambda) Hello from function\n",
      "Hello from lambda\n"
     ]
    }
   ],
   "source": [
    "def greeting():\n",
    "    return \"Hello from function\"\n",
    "print(\"Calling the function: (Without Lambda)\", greeting())\n",
    "greet_me = lambda: \"Hello from lambda\"\n",
    "print(greet_me())"
   ]
  },
  {
   "cell_type": "code",
   "execution_count": 54,
   "id": "initial-neutral",
   "metadata": {},
   "outputs": [
    {
     "data": {
      "text/plain": [
       "'HELLO TOMMY'"
      ]
     },
     "execution_count": 54,
     "metadata": {},
     "output_type": "execute_result"
    }
   ],
   "source": [
    "formatted_string = lambda s: s.strip().upper()\n",
    "formatted_string(' Hello Tommy ')"
   ]
  },
  {
   "cell_type": "code",
   "execution_count": null,
   "id": "whole-violence",
   "metadata": {},
   "outputs": [],
   "source": []
  }
 ],
 "metadata": {
  "kernelspec": {
   "display_name": "Python 3",
   "language": "python",
   "name": "python3"
  },
  "language_info": {
   "codemirror_mode": {
    "name": "ipython",
    "version": 3
   },
   "file_extension": ".py",
   "mimetype": "text/x-python",
   "name": "python",
   "nbconvert_exporter": "python",
   "pygments_lexer": "ipython3",
   "version": "3.7.9"
  }
 },
 "nbformat": 4,
 "nbformat_minor": 5
}
