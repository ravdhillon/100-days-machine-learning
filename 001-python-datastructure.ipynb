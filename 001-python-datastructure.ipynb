{
 "cells": [
  {
   "cell_type": "markdown",
   "id": "raising-instrument",
   "metadata": {},
   "source": [
    "## 1. String\n",
    "- sequence datatype\n",
    "- immutable. Meaning a new String object is created everytime we make changes\n",
    "\n",
    "### Methods\n",
    "- casefold: creates lowercase string suitable for case insensitive operations. More **aggressive** than **lower**\n",
    "- lower: takes every character and convert it to lowercase.\n",
    "- upper: takes every character and convert it to uppercase.\n",
    "- capitalize: returns a capitalized version of the string, i.e. it makes the first character upper case and the rest lower in **whole string**.\n",
    "- title: returns the title cased version of the string, that is, every letter in the beginning of a **word** is made upper case and all others are made lower case:\n",
    "- swapcase: returns a **new string object** in which all lower case characters are swapped to upper case and vice-versa.\n",
    "- translate:  specify the translation table (used for replacement).\n",
    "- strip: strip leading and trailing characters. we can also use **lstrip** or **rstrip**\n",
    "- split: split string based on delimiter into **list of strings**\n",
    "    - Takes two arguments: if sep is not provided or is None, then splitting takes place whenever there is whitespace.Leading and trailing ws is ignored. If sep is provided we split on every occurence of delimiter, however maxsplit parameter limits the number of splitting that occurs.\n",
    "- replace: replaces one sub-string with another sub-string.\n",
    "- count: counting number of times a substring appears in a string."
   ]
  },
  {
   "cell_type": "code",
   "execution_count": 2,
   "id": "brief-mystery",
   "metadata": {},
   "outputs": [
    {
     "data": {
      "text/plain": [
       "'Ravisher Dhillon'"
      ]
     },
     "execution_count": 2,
     "metadata": {},
     "output_type": "execute_result"
    }
   ],
   "source": [
    "name = 'Ravisher Dhillon'"
   ]
  },
  {
   "cell_type": "markdown",
   "id": "catholic-durham",
   "metadata": {},
   "source": [
    "## 2. Set\n",
    "- unordered collection of unique objects. **No duplicates allowed. Duplicates will be deleted even if we have added in the set.**\n",
    "Two Types\n",
    "1. Sets:**Mutable**. New elements can be added **using add method** once sets are defined.\n",
    "2. Frozen Sets: **Immutable**. New elements cannot added after its defined. it doesn't support **add method**"
   ]
  },
  {
   "cell_type": "code",
   "execution_count": 4,
   "id": "numerous-jenny",
   "metadata": {},
   "outputs": [
    {
     "data": {
      "text/plain": [
       "{'apple', 'orange', 'pear'}"
      ]
     },
     "execution_count": 4,
     "metadata": {},
     "output_type": "execute_result"
    }
   ],
   "source": [
    "basket_set = {'apple', 'orange', 'apple', 'pear', 'orange'}\n",
    "basket_set"
   ]
  },
  {
   "cell_type": "code",
   "execution_count": 5,
   "id": "honey-immunology",
   "metadata": {},
   "outputs": [
    {
     "data": {
      "text/plain": [
       "{'apple', 'banana', 'orange', 'pear'}"
      ]
     },
     "execution_count": 5,
     "metadata": {},
     "output_type": "execute_result"
    }
   ],
   "source": [
    "# Adding element to set\n",
    "basket_set.add('banana')\n",
    "basket_set"
   ]
  },
  {
   "cell_type": "code",
   "execution_count": 9,
   "id": "acceptable-salad",
   "metadata": {},
   "outputs": [
    {
     "data": {
      "text/plain": [
       "frozenset({'Canada', 'Mexico', 'USA'})"
      ]
     },
     "execution_count": 9,
     "metadata": {},
     "output_type": "execute_result"
    }
   ],
   "source": [
    "# Frozen Set\n",
    "frozen_set = frozenset({'USA', 'Canada', 'Mexico'})\n",
    "frozen_set"
   ]
  },
  {
   "cell_type": "code",
   "execution_count": 11,
   "id": "comfortable-candidate",
   "metadata": {},
   "outputs": [
    {
     "ename": "AttributeError",
     "evalue": "'frozenset' object has no attribute 'add'",
     "output_type": "error",
     "traceback": [
      "\u001b[0;31m---------------------------------------------------------------------------\u001b[0m",
      "\u001b[0;31mAttributeError\u001b[0m                            Traceback (most recent call last)",
      "\u001b[0;32m<ipython-input-11-048371ebfcca>\u001b[0m in \u001b[0;36m<module>\u001b[0;34m\u001b[0m\n\u001b[0;32m----> 1\u001b[0;31m \u001b[0mfrozen_set\u001b[0m\u001b[0;34m.\u001b[0m\u001b[0madd\u001b[0m\u001b[0;34m(\u001b[0m\u001b[0;34m'India'\u001b[0m\u001b[0;34m)\u001b[0m\u001b[0;34m\u001b[0m\u001b[0;34m\u001b[0m\u001b[0m\n\u001b[0m",
      "\u001b[0;31mAttributeError\u001b[0m: 'frozenset' object has no attribute 'add'"
     ]
    }
   ],
   "source": [
    "frozen_set.add('India')"
   ]
  },
  {
   "cell_type": "markdown",
   "id": "excess-notebook",
   "metadata": {},
   "source": [
    "## 3. List\n",
    "Contains items separated by **,** and enclosed within **[ ]** bracket. The elements of list can be of **different datatype.**\n",
    "**Mutable Data Structure**"
   ]
  },
  {
   "cell_type": "code",
   "execution_count": 12,
   "id": "expected-essay",
   "metadata": {},
   "outputs": [
    {
     "data": {
      "text/plain": [
       "['USA', 'Canada', 'Mexico', 65297.52, 46193.73, 9946.03]"
      ]
     },
     "execution_count": 12,
     "metadata": {},
     "output_type": "execute_result"
    }
   ],
   "source": [
    "country_list = ['USA', 'Canada', 'Mexico', 65297.52, 46193.73, 9946.03]\n",
    "country_list"
   ]
  },
  {
   "cell_type": "markdown",
   "id": "unknown-roommate",
   "metadata": {},
   "source": [
    "## 4. Dictionary\n",
    "key value pair. Enclosed by **{ }** braces and values can be assigned and accessed using **[ ] brackets**.\n",
    "\n",
    "### Methods\n",
    "- keys() : return list of keys\n",
    "- values(): return list of values"
   ]
  },
  {
   "cell_type": "code",
   "execution_count": 13,
   "id": "realistic-engineer",
   "metadata": {},
   "outputs": [
    {
     "data": {
      "text/plain": [
       "{'USA': 65297.52, 'Canada': 46193.73, 'Mexico': 9946.03}"
      ]
     },
     "execution_count": 13,
     "metadata": {},
     "output_type": "execute_result"
    }
   ],
   "source": [
    "country_dict = {'USA': 65297.52, 'Canada': 46193.73, 'Mexico': 9946.03}\n",
    "country_dict"
   ]
  },
  {
   "cell_type": "markdown",
   "id": "turkish-pattern",
   "metadata": {},
   "source": [
    "## 5. Tuple\n",
    "Tuple elements are enclosed in **( ) parenthesis** and they are **immutable**."
   ]
  },
  {
   "cell_type": "code",
   "execution_count": 14,
   "id": "qualified-enterprise",
   "metadata": {},
   "outputs": [
    {
     "data": {
      "text/plain": [
       "('USA', 'Canada', 'Mexico', 65297.52, 46193.73, 9946.03)"
      ]
     },
     "execution_count": 14,
     "metadata": {},
     "output_type": "execute_result"
    }
   ],
   "source": [
    "country_tuple = ('USA', 'Canada', 'Mexico', 65297.52, 46193.73, 9946.03)\n",
    "country_tuple"
   ]
  },
  {
   "cell_type": "code",
   "execution_count": null,
   "id": "boring-lindsay",
   "metadata": {},
   "outputs": [],
   "source": []
  }
 ],
 "metadata": {
  "kernelspec": {
   "display_name": "Python 3",
   "language": "python",
   "name": "python3"
  },
  "language_info": {
   "codemirror_mode": {
    "name": "ipython",
    "version": 3
   },
   "file_extension": ".py",
   "mimetype": "text/x-python",
   "name": "python",
   "nbconvert_exporter": "python",
   "pygments_lexer": "ipython3",
   "version": "3.8.6"
  }
 },
 "nbformat": 4,
 "nbformat_minor": 5
}
